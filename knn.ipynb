{
 "cells": [
  {
   "cell_type": "markdown",
   "metadata": {},
   "source": [
    "# K-Nearest Neighbors Homework Solutions\n",
    "***\n",
    "**Name**: $<$**Juan Lin**$>$ \n",
    "***\n",
    "\n",
    "This assignment is due on Moodle by **5pm on Friday January 26th**. Submit only this Jupyter notebook to Moodle.  Do not compress it using tar, rar, zip, etc. Your solutions to analysis questions should be done in Markdown directly below the associated question.  Remember that you are encouraged to discuss the problems with your instructors and classmates, but **you must write all code and solutions on your own**.  For a refresher on the course **Collaboration Policy** click [here](https://github.com/chrisketelsen/CSCI5622-Machine-Learning/blob/master/resources/syllabus.md#collaboration-policy)\n",
    "\n"
   ]
  },
  {
   "cell_type": "markdown",
   "metadata": {},
   "source": [
    "In this homework you'll implement a K-Nearest Neighbor framework to take an image of a handwritten digit and predict which digit it corresponds to.  \n",
    "\n",
    "<br>\n",
    "\n",
    "![Samples of Handwritten Digits](wide_mnist.png \"MNIST Digits\")\n",
    "\n",
    "\n",
    "\n",
    "\n",
    "This homework is designed to be pretty easy. If you're spending a ton of time on this assignment, then you are either:\n",
    "\n",
    "- not prepared to take this course (i.e., if you're struggling with Python)\n",
    "- seriously over-thinking the assignment\n",
    "- trying to implement too much of KNN from scratch\n",
    "\n",
    "\n",
    "Most of this assignment will be done by calling libraries that are already implemented for you. If you are implementing $n$-dimensional search or your own distance metrics, you are generating extra work for yourself and making yourself vulnerable to errors. \n",
    "\n",
    "Here are the rules: \n",
    "\n",
    "- Do **NOT** load or use any Python packages that are not available in Anaconda 3.6. \n",
    "- Some problems with code may be autograded.  If we provide a function or class API **do not** change it.\n",
    "- Do not change the location of the data or data directory.  Use only relative paths to access the data. "
   ]
  },
  {
   "cell_type": "code",
   "execution_count": 1,
   "metadata": {
    "collapsed": true
   },
   "outputs": [],
   "source": [
    "import numpy as np\n",
    "import matplotlib.pylab as plt\n",
    "%matplotlib inline \n",
    "from collections import Counter"
   ]
  },
  {
   "cell_type": "markdown",
   "metadata": {},
   "source": [
    "### [5 points] Problem 1\n",
    "***\n",
    "\n",
    "The class below will load and store the MNIST data.  Load the data and then report: \n",
    "- The number of examples in the training set \n",
    "- The number of examples in the test set \n",
    "- The number of pixels in each image. "
   ]
  },
  {
   "cell_type": "code",
   "execution_count": 2,
   "metadata": {
    "collapsed": true
   },
   "outputs": [],
   "source": [
    "class Numbers:\n",
    "    \"\"\"\n",
    "    Class to store MNIST data\n",
    "    \"\"\"\n",
    "    def __init__(self, location):\n",
    "\n",
    "        import pickle, gzip\n",
    "     \n",
    "        # load data from file \n",
    "        f = gzip.open(location, 'rb')\n",
    "        train_set, valid_set, test_set = pickle.load(f)\n",
    "\n",
    "        # store for use later  \n",
    "        self.train_x, self.train_y = train_set\n",
    "        self.test_x, self.test_y = valid_set\n",
    "        f.close()"
   ]
  },
  {
   "cell_type": "code",
   "execution_count": 3,
   "metadata": {
    "collapsed": true
   },
   "outputs": [],
   "source": [
    "data = Numbers(\"../data/mnist.pklz\")"
   ]
  },
  {
   "cell_type": "code",
   "execution_count": 4,
   "metadata": {},
   "outputs": [
    {
     "name": "stdout",
     "output_type": "stream",
     "text": [
      "The number of examples in the training set is 50000\n",
      "The number of examples in the test set is 10000\n",
      "The number of pixedl in each image is 784\n"
     ]
    }
   ],
   "source": [
    "print(\"The number of examples in the training set is\", len(data.train_x))\n",
    "print(\"The number of examples in the test set is\", len(data.test_x))\n",
    "print(\"The number of pixedl in each image is\", len(data.train_x[0]))"
   ]
  },
  {
   "cell_type": "markdown",
   "metadata": {},
   "source": [
    "### [30 points] Problem 2\n",
    "***\n",
    "\n",
    "The class below will perform K-Nearest Neighbor classification on our handwritten digit data. Your tasks are as follows:   \n",
    "\n",
    "1. Modify the `label_counts` function to return a dictionary of frequencies corresponding to each label in the training set. \n",
    "1. Modify the `majority` function so that it returns the _label_ that appears most frequently in the $K$-nearest neighbors of the query point.  In the case that the maximum frequency occurs for two or more labels, return the one that appears most frequently in the entire training set. In the case that there is still a tie, break the tie in any way that you choose. \n",
    "1. Modify the `classify` function so that it finds the _indices_ of the $K$ closest training examples to the query point and then calls the `majority` function to return the predicted label. Almost all of the heavy lifting here will be done by the BallTree object from `sklearn.neighbors`, so you'll want to start out by reading the [documentation](http://scikit-learn.org/stable/modules/generated/sklearn.neighbors.BallTree.html).  \n",
    "1. Modify the `confusion_matrix` function to classify examples and record the results in a confusion matrix. You should construct the confusion matrix on your own.  Don't call any additional functions from sklearn to do it for you.\n",
    "\n",
    "The class Knearest also implements an `accuracy` function which you will use in **Problem 3**.  You should not have to modify this function. \n",
    "\n",
    "We've given you unit tests down below based on the simple example worked out in lecture.  At first your code will fail all of them.  Do not move on to **Problem 3** until your code passes all of the unit tests. In addition, passing the unit tests does not guarantee that your implementation is robust and that you'll earn full points on this problem.  You should be designing your own additional tests as well. "
   ]
  },
  {
   "cell_type": "code",
   "execution_count": 5,
   "metadata": {
    "collapsed": true
   },
   "outputs": [],
   "source": [
    "import numpy as np\n",
    "import matplotlib.pylab as plt\n",
    "%matplotlib inline \n",
    "from collections import Counter\n",
    "\n",
    "class Knearest:\n",
    "    \"\"\"\n",
    "    kNN classifier\n",
    "    \"\"\"\n",
    "\n",
    "    def __init__(self, X, y, k=5):\n",
    "        \"\"\"\n",
    "        Creates a kNN instance\n",
    "\n",
    "        :param x: Training data input\n",
    "        :param y: Training data output\n",
    "        :param k: The number of nearest points to consider in classification\n",
    "        \"\"\"\n",
    "        \n",
    "        from sklearn.neighbors import BallTree\n",
    "\n",
    "        self._kdtree = BallTree(X)\n",
    "        self._y = y\n",
    "        self._k = k\n",
    "        self._counts = self.label_counts()\n",
    "        \n",
    "        \n",
    "    def label_counts(self):\n",
    "        \"\"\"\n",
    "        Given the training labels, return a dictionary d where d[y] is  \n",
    "        the number of times that label y appears in the training set. \n",
    "        \"\"\"\n",
    "        d = {}\n",
    "        for item in self._y:\n",
    "            if item not in d:\n",
    "                d[item] = 1\n",
    "            else:\n",
    "                d[item] = d[item] + 1 \n",
    "        return d\n",
    "            #return dict({1:0, -1:0})\n",
    "\n",
    "    def majority(self, neighbor_indices):\n",
    "        \"\"\"\n",
    "        Given the indices of training examples, return the majority label. Break ties \n",
    "        by choosing the tied label that appears most often in the training data. \n",
    "\n",
    "        :param neighbor_indices: The indices of the k nearest neighbors\n",
    "        \"\"\"\n",
    "        # assert len(neighbor_indices) == self._k, \"Did not get k neighbor indices\"\n",
    "\n",
    "        majority_label = [x[0] for x in Counter(self._y[neighbor_indices]).most_common()\n",
    "         if x[1] == max(Counter(self._y[neighbor_indices]).values())]\n",
    "        \n",
    "        # if the major has more than one value, call label_counts to figure out which one appears most often in the training data.\n",
    "        \n",
    "        if len(majority_label) > 1:\n",
    "            \n",
    "            temp = {}\n",
    "            for item in majority_label:\n",
    "                d1 = self.label_counts()\n",
    "                temp[item] = d1[item]\n",
    "                for k,v in temp.items():\n",
    "                    if v == max(temp.values()):\n",
    "                        return k\n",
    "        else:\n",
    "            return majority_label[0]\n",
    "            \n",
    "            \n",
    "        # return self._y[neighbor_indices[0]]\n",
    "        \n",
    "\n",
    "    def classify(self, example):\n",
    "        \"\"\"\n",
    "        Given an example, return the predicted label. \n",
    "\n",
    "        :param example: A representation of an example in the same\n",
    "        format as a row of the training data\n",
    "        \"\"\"\n",
    "        _, point = self._kdtree.query([example], self._k)\n",
    "        return self.majority(point.flatten())\n",
    "    \n",
    "     \n",
    "\n",
    "\n",
    "    def confusion_matrix(self, test_x, test_y):\n",
    "        \"\"\"\n",
    "        Given a matrix of test examples and labels, compute the confusion\n",
    "        matrix for the current classifier.  Should return a 2-dimensional\n",
    "        numpy array of ints, C, where C[ii,jj] is the number of times an \n",
    "        example with true label ii was labeled as jj.\n",
    "\n",
    "        :param test_x: test data \n",
    "        :param test_y: true test labels \n",
    "        \"\"\"\n",
    "        \n",
    "        C = np.zeros((10,10), dtype=int)\n",
    "        data_index = 0\n",
    "        for xx, yy in zip(test_x, test_y):\n",
    "                      \n",
    "            predict_label = self.classify(xx)\n",
    "                          \n",
    "            C[yy][predict_label] += 1   \n",
    "            \n",
    "            data_index += 1\n",
    "            if data_index % 100 == 0:\n",
    "                print(\"%i %i for confusion matrix\" % (data_index, len(test_x)))\n",
    "        \n",
    "        return C \n",
    "            \n",
    "    @staticmethod\n",
    "    def accuracy(C):\n",
    "        \"\"\"\n",
    "        Given a confusion matrix C, compute the accuracy of the underlying classifier.\n",
    "        \n",
    "        :param C: a confusion matrix \n",
    "        \"\"\"\n",
    "        accuracy_obtained = np.sum(C.diagonal()) / C.sum()\n",
    "        \n",
    "        return accuracy_obtained"
   ]
  },
  {
   "cell_type": "markdown",
   "metadata": {},
   "source": [
    "Here are the unit tests.  You don't need to modify them.  Simply execute the cell and observe the output. "
   ]
  },
  {
   "cell_type": "code",
   "execution_count": 6,
   "metadata": {
    "scrolled": true
   },
   "outputs": [
    {
     "name": "stderr",
     "output_type": "stream",
     "text": [
      "....\n",
      "----------------------------------------------------------------------\n",
      "Ran 4 tests in 1.853s\n",
      "\n",
      "OK\n"
     ]
    },
    {
     "data": {
      "text/plain": [
       "<unittest.runner.TextTestResult run=4 errors=0 failures=0>"
      ]
     },
     "execution_count": 6,
     "metadata": {},
     "output_type": "execute_result"
    }
   ],
   "source": [
    "import unittest\n",
    "\n",
    "class TestKnn(unittest.TestCase):\n",
    "    def setUp(self):\n",
    "        self.x = np.array([[2, 0], [4, 1], [6, 0], [1, 4], [2, 4], [2, 5], [4, 4], [0, 2], [3, 2], [4, 2], [5, 2], [5, 5]])\n",
    "        self.y = np.array([+1, +1, +1, +1, +1, +1, +1, -1, -1, -1, -1, -1])\n",
    "        self.knn = {}\n",
    "        for ii in [1, 2, 3]:\n",
    "            self.knn[ii] = Knearest(self.x, self.y, ii)\n",
    "\n",
    "        self.queries = np.array([[1, 5], [0, 3], [6, 4]])\n",
    "        \n",
    "    def test0(self):\n",
    "        \"\"\"\n",
    "        Test the label counter \n",
    "        \"\"\"\n",
    "        self.assertEqual(self.knn[1]._counts[-1], 5)\n",
    "        self.assertEqual(self.knn[1]._counts[1], 7)\n",
    "\n",
    "    def test1(self):\n",
    "        \"\"\"\n",
    "        Test 1NN\n",
    "        \"\"\"\n",
    "        self.assertEqual(self.knn[1].classify(self.queries[0]),  1)\n",
    "        self.assertEqual(self.knn[1].classify(self.queries[1]), -1)\n",
    "        self.assertEqual(self.knn[1].classify(self.queries[2]), -1)\n",
    "\n",
    "    def test2(self):\n",
    "        \"\"\"\n",
    "        Test 2NN\n",
    "        \"\"\"\n",
    "        self.assertEqual(self.knn[2].classify(self.queries[0]),  1)\n",
    "        self.assertEqual(self.knn[2].classify(self.queries[1]),  1)\n",
    "        self.assertEqual(self.knn[2].classify(self.queries[2]),  1)\n",
    "\n",
    "    def test3(self):\n",
    "        \"\"\"\n",
    "        Test 3NN\n",
    "        \"\"\"\n",
    "        self.assertEqual(self.knn[3].classify(self.queries[0]),  1)\n",
    "        self.assertEqual(self.knn[3].classify(self.queries[1]),  1)\n",
    "        self.assertEqual(self.knn[3].classify(self.queries[2]), -1)\n",
    "        \n",
    "tests = TestKnn()\n",
    "tests_to_run = unittest.TestLoader().loadTestsFromModule(tests)\n",
    "unittest.TextTestRunner().run(tests_to_run)"
   ]
  },
  {
   "cell_type": "markdown",
   "metadata": {},
   "source": [
    "### [15 points] Problem 3\n",
    "***\n",
    "\n",
    "In this problem you'll explore the performance of the classifier you've written.  A word of advice: don't use the entire training set, especially at first.  We'll be using this dataset again later on with techniques that scale better.    "
   ]
  },
  {
   "cell_type": "markdown",
   "metadata": {},
   "source": [
    "**Part A**: Explore the relationship between the number of training examples and accuracy on the test set. Comment on your findings and support your observations with some kind of graphic. "
   ]
  },
  {
   "cell_type": "code",
   "execution_count": 7,
   "metadata": {},
   "outputs": [
    {
     "name": "stdout",
     "output_type": "stream",
     "text": [
      "100 100 for confusion matrix\n",
      "100 100 for confusion matrix\n",
      "100 100 for confusion matrix\n",
      "100 100 for confusion matrix\n",
      "100 100 for confusion matrix\n"
     ]
    },
    {
     "data": {
      "image/png": "[encoded data removed]",
      "text/plain": [
       "<matplotlib.figure.Figure at 0x8440080>"
      ]
     },
     "metadata": {},
     "output_type": "display_data"
    }
   ],
   "source": [
    "# trying to explore the relationship of the number of training examples and accuracy when k=3\n",
    "accu_num_trainExa = []\n",
    "for i in range(100, 600, 100):\n",
    "    knn = Knearest(data.train_x[:i], data.train_y[:i], k=3)\n",
    "    confusion = knn.confusion_matrix(data.test_x[:100], data.test_y[:100])\n",
    "    accu_num_trainExa.append(knn.accuracy(confusion))\n",
    "    \n",
    "num_trainExa = [i for i in range(100, 600, 100)]\n",
    "\n",
    "fig = plt.figure()\n",
    "plt.axis([0, 500, 0, 1])    \n",
    "plt.plot(num_trainExa, accu_num_trainExa,'ro')\n",
    "plt.xlabel('number of training examples')\n",
    "plt.ylabel('accuracy')\n",
    "fig.savefig('relationship_#oftrainingexamples_accuracy')\n",
    "plt.show()"
   ]
  },
  {
   "cell_type": "markdown",
   "metadata": {},
   "source": [
    "** Part A Conclusion:** It could be easily seen that the amount of data used has an effect on the accuracy. Lower amounts of training points result in a lower accuracy rate, but as you approach a certain larger amount these improvements become negligible and only add to the computational cost.                                                        \n",
    "** Note:** in order to save time, only part of the test data were used for demo."
   ]
  },
  {
   "cell_type": "markdown",
   "metadata": {},
   "source": [
    "**Part B**: Explore the relationship between the number of nearest neighbors and accuracy on the test set. Comment on your findings and support your observations with some kind of graphic. "
   ]
  },
  {
   "cell_type": "code",
   "execution_count": 8,
   "metadata": {},
   "outputs": [
    {
     "name": "stdout",
     "output_type": "stream",
     "text": [
      "100 100 for confusion matrix\n",
      "100 100 for confusion matrix\n",
      "100 100 for confusion matrix\n",
      "100 100 for confusion matrix\n"
     ]
    },
    {
     "data": {
      "image/png": "[encoded data removed]",
      "text/plain": [
       "<matplotlib.figure.Figure at 0x543f6d8>"
      ]
     },
     "metadata": {},
     "output_type": "display_data"
    }
   ],
   "source": [
    "accu_num_nearneib = []\n",
    "for i in range(1, 13, 3):\n",
    "    knn = Knearest(data.train_x[:500], data.train_y[:500], k=i)\n",
    "    confusion = knn.confusion_matrix(data.test_x[:100], data.test_y[:100])\n",
    "    accu_num_nearneib.append(knn.accuracy(confusion))\n",
    "    \n",
    "num_nearneib = [i for i in range(1, 13, 3)]\n",
    "\n",
    "fig = plt.figure()\n",
    "plt.axis([0, 12, 0, 1])    \n",
    "plt.plot(num_nearneib, accu_num_nearneib,'ro')\n",
    "plt.xlabel('number of nearest neighbors')\n",
    "plt.ylabel('accuracy')\n",
    "fig.savefig('relationship_#ofnearestneighbors_accuracy')\n",
    "plt.show()"
   ]
  },
  {
   "cell_type": "markdown",
   "metadata": {},
   "source": [
    "** Part B Conclusion: ** as k gets bigger, the accuracy gets samller because a larger selection of neighbors will dilute the accuracy.                                            \n",
    "** Note:** in order to save time, only part of the training and test data were used for demon."
   ]
  },
  {
   "cell_type": "markdown",
   "metadata": {},
   "source": [
    "**Part C**: Which numbers get confused with each other the most easily?  Use the confusion_matrix function that you wrote above to support your conclusion.  Then use the `view_digit` function given below to plot a few examples of misclassified digits and discuss possible reasons for the misclassifications.  (Investigating misclassified examples is called **error analysis** and is an important step in the development of any classification technique).  "
   ]
  },
  {
   "cell_type": "code",
   "execution_count": 9,
   "metadata": {},
   "outputs": [
    {
     "name": "stdout",
     "output_type": "stream",
     "text": [
      "true label: 3\n"
     ]
    },
    {
     "data": {
      "image/png": "[encoded data removed]",
      "text/plain": [
       "<matplotlib.figure.Figure at 0x845c9e8>"
      ]
     },
     "metadata": {},
     "output_type": "display_data"
    }
   ],
   "source": [
    "def view_digit(example, label=None):\n",
    "    if label: print(\"true label: {:d}\".format(label))\n",
    "    plt.imshow(example.reshape(28,28), cmap='gray');\n",
    "    \n",
    "# view_digit(data.train_x[919], data.train_y[919])\n",
    "view_digit(data.test_x[7], data.test_y[7])"
   ]
  },
  {
   "cell_type": "code",
   "execution_count": 10,
   "metadata": {
    "scrolled": true
   },
   "outputs": [
    {
     "name": "stdout",
     "output_type": "stream",
     "text": [
      "100 10000 for confusion matrix\n",
      "200 10000 for confusion matrix\n",
      "300 10000 for confusion matrix\n",
      "400 10000 for confusion matrix\n",
      "500 10000 for confusion matrix\n",
      "600 10000 for confusion matrix\n",
      "700 10000 for confusion matrix\n",
      "800 10000 for confusion matrix\n",
      "900 10000 for confusion matrix\n",
      "1000 10000 for confusion matrix\n",
      "1100 10000 for confusion matrix\n",
      "1200 10000 for confusion matrix\n",
      "1300 10000 for confusion matrix\n",
      "1400 10000 for confusion matrix\n",
      "1500 10000 for confusion matrix\n",
      "1600 10000 for confusion matrix\n",
      "1700 10000 for confusion matrix\n",
      "1800 10000 for confusion matrix\n",
      "1900 10000 for confusion matrix\n",
      "2000 10000 for confusion matrix\n",
      "2100 10000 for confusion matrix\n",
      "2200 10000 for confusion matrix\n",
      "2300 10000 for confusion matrix\n",
      "2400 10000 for confusion matrix\n",
      "2500 10000 for confusion matrix\n",
      "2600 10000 for confusion matrix\n",
      "2700 10000 for confusion matrix\n",
      "2800 10000 for confusion matrix\n",
      "2900 10000 for confusion matrix\n",
      "3000 10000 for confusion matrix\n",
      "3100 10000 for confusion matrix\n",
      "3200 10000 for confusion matrix\n",
      "3300 10000 for confusion matrix\n",
      "3400 10000 for confusion matrix\n",
      "3500 10000 for confusion matrix\n",
      "3600 10000 for confusion matrix\n",
      "3700 10000 for confusion matrix\n",
      "3800 10000 for confusion matrix\n",
      "3900 10000 for confusion matrix\n",
      "4000 10000 for confusion matrix\n",
      "4100 10000 for confusion matrix\n",
      "4200 10000 for confusion matrix\n",
      "4300 10000 for confusion matrix\n",
      "4400 10000 for confusion matrix\n",
      "4500 10000 for confusion matrix\n",
      "4600 10000 for confusion matrix\n",
      "4700 10000 for confusion matrix\n",
      "4800 10000 for confusion matrix\n",
      "4900 10000 for confusion matrix\n",
      "5000 10000 for confusion matrix\n",
      "5100 10000 for confusion matrix\n",
      "5200 10000 for confusion matrix\n",
      "5300 10000 for confusion matrix\n",
      "5400 10000 for confusion matrix\n",
      "5500 10000 for confusion matrix\n",
      "5600 10000 for confusion matrix\n",
      "5700 10000 for confusion matrix\n",
      "5800 10000 for confusion matrix\n",
      "5900 10000 for confusion matrix\n",
      "6000 10000 for confusion matrix\n",
      "6100 10000 for confusion matrix\n",
      "6200 10000 for confusion matrix\n",
      "6300 10000 for confusion matrix\n",
      "6400 10000 for confusion matrix\n",
      "6500 10000 for confusion matrix\n",
      "6600 10000 for confusion matrix\n",
      "6700 10000 for confusion matrix\n",
      "6800 10000 for confusion matrix\n",
      "6900 10000 for confusion matrix\n",
      "7000 10000 for confusion matrix\n",
      "7100 10000 for confusion matrix\n",
      "7200 10000 for confusion matrix\n",
      "7300 10000 for confusion matrix\n",
      "7400 10000 for confusion matrix\n",
      "7500 10000 for confusion matrix\n",
      "7600 10000 for confusion matrix\n",
      "7700 10000 for confusion matrix\n",
      "7800 10000 for confusion matrix\n",
      "7900 10000 for confusion matrix\n",
      "8000 10000 for confusion matrix\n",
      "8100 10000 for confusion matrix\n",
      "8200 10000 for confusion matrix\n",
      "8300 10000 for confusion matrix\n",
      "8400 10000 for confusion matrix\n",
      "8500 10000 for confusion matrix\n",
      "8600 10000 for confusion matrix\n",
      "8700 10000 for confusion matrix\n",
      "8800 10000 for confusion matrix\n",
      "8900 10000 for confusion matrix\n",
      "9000 10000 for confusion matrix\n",
      "9100 10000 for confusion matrix\n",
      "9200 10000 for confusion matrix\n",
      "9300 10000 for confusion matrix\n",
      "9400 10000 for confusion matrix\n",
      "9500 10000 for confusion matrix\n",
      "9600 10000 for confusion matrix\n",
      "9700 10000 for confusion matrix\n",
      "9800 10000 for confusion matrix\n",
      "9900 10000 for confusion matrix\n",
      "10000 10000 for confusion matrix\n"
     ]
    }
   ],
   "source": [
    "knn = Knearest(data.train_x, data.train_y, k=3)\n",
    "confusion = knn.confusion_matrix(data.test_x, data.test_y)"
   ]
  },
  {
   "cell_type": "code",
   "execution_count": 11,
   "metadata": {},
   "outputs": [
    {
     "data": {
      "image/png": "[encoded data removed]",
      "text/plain": [
       "<matplotlib.figure.Figure at 0xc848550>"
      ]
     },
     "metadata": {},
     "output_type": "display_data"
    }
   ],
   "source": [
    "def convert_plot(data1):\n",
    "    temp = []\n",
    "    for i in range(10):\n",
    "        for j in range(10):\n",
    "            temp.append([i, j, data1[i][j]])\n",
    "\n",
    "    data_plot = np.array([item for item in temp if (item[0] != item[1]) and (item[2] != 0)])\n",
    "    return data_plot\n",
    "test = convert_plot(confusion)\n",
    "cm = plt.cm.get_cmap('RdYlBu')\n",
    "sc = plt.scatter(test[:,0], test[:,1], c=test[:,2], cmap=cm)\n",
    "plt.colorbar(sc)\n",
    "plt.xlabel('true label')\n",
    "plt.ylabel('predicted label')\n",
    "plt.show()"
   ]
  },
  {
   "cell_type": "markdown",
   "metadata": {},
   "source": [
    "** Part C Conclusion: ** By looking at the plot above, the number 4 and 9 confused most based on the color bar value, the number 2 and 7, and then the number 5 and 3."
   ]
  }
 ],
 "metadata": {
  "kernelspec": {
   "display_name": "Python 3",
   "language": "python",
   "name": "python3"
  },
  "language_info": {
   "codemirror_mode": {
    "name": "ipython",
    "version": 3
   },
   "file_extension": ".py",
   "mimetype": "text/x-python",
   "name": "python",
   "nbconvert_exporter": "python",
   "pygments_lexer": "ipython3",
   "version": "3.6.4"
  },
  "toc": {
   "colors": {
    "hover_highlight": "#DAA520",
    "navigate_num": "#000000",
    "navigate_text": "#333333",
    "running_highlight": "#FF0000",
    "selected_highlight": "#FFD700",
    "sidebar_border": "#EEEEEE",
    "wrapper_background": "#FFFFFF"
   },
   "moveMenuLeft": true,
   "nav_menu": {
    "height": "118px",
    "width": "252px"
   },
   "navigate_menu": true,
   "number_sections": true,
   "sideBar": true,
   "threshold": 4,
   "toc_cell": false,
   "toc_section_display": "block",
   "toc_window_display": false,
   "widenNotebook": false
  }
 },
 "nbformat": 4,
 "nbformat_minor": 2
}
